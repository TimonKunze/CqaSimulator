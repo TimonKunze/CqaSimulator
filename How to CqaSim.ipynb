{
 "cells": [
  {
   "cell_type": "code",
   "execution_count": 1,
   "id": "2f98f2ce",
   "metadata": {},
   "outputs": [],
   "source": [
    "%load_ext autoreload\n",
    "%autoreload 2"
   ]
  },
  {
   "cell_type": "markdown",
   "id": "57f64107",
   "metadata": {},
   "source": [
    "# How to install"
   ]
  },
  {
   "cell_type": "markdown",
   "id": "4156321b",
   "metadata": {},
   "source": [
    "I would install the module as a git submodule in your project folder with:\n",
    "\n",
    "`git submodule add git@github.com:TimonKunze/CqaSimulator.git submodules/cqasim`\n",
    "\n",
    "Then one can easily push changes to one's own project git repository as well as pushing bugfixes and extensions to the `sqasim`package itself. \n",
    "\n",
    "I would however mostly work without changing the module but only by inheriting from the module classes and overwriting the methods...\n",
    "\n",
    "**Comment_1 to Tadeo and Aiswarya: If we want to change the module it's maybe also best to do it on a different branch first and only merge into the project after intensive testing. But I'm also new and unexperienced how to do this. I never built such a package before or worked with it collaboratively from version 0.0. Let me know how you think it's best to handle.**\n",
    "\n",
    "**Comment_2: Although I tried to test many functions (see folder `test`, easiest is to execute these tests with `pytest test_file.py` in the terminal), I'm sure there are still several errors in it that we have to fix. Also the package could still be extended considerably, neither I implemented all of FS's measures already. Time will tell...**\n",
    "\n"
   ]
  },
  {
   "cell_type": "markdown",
   "id": "cbc3a909",
   "metadata": {},
   "source": [
    "In one's project root one can install the package as editable in with `pip install -e ./submodules/sqasim`."
   ]
  },
  {
   "cell_type": "markdown",
   "id": "83ca9f65",
   "metadata": {},
   "source": [
    "Then one can load the load submodule like here:\n",
    "\n",
    "```\n",
    "from submodules.cqasim.cqa_simulator import CqaSimulator\n",
    "from submodules.cqasim.cqa_defaults import CqaDefaults\n",
    "```\n",
    "\n",
    "and can inherit from the module classes like so:\n",
    "\n",
    "```\n",
    "class MyOwnCqaSimulator(CqaSimulator):\n",
    "    def __init__(self):\n",
    "        super().__init__()\n",
    "\n",
    "    def run(self):\n",
    "        ...\n",
    "```\n",
    "\n"
   ]
  },
  {
   "cell_type": "markdown",
   "id": "763255bc",
   "metadata": {},
   "source": [
    "Of course there are also many other ways of how to install the code..."
   ]
  },
  {
   "cell_type": "markdown",
   "id": "e528eb1b",
   "metadata": {},
   "source": [
    "# How to use"
   ]
  },
  {
   "cell_type": "code",
   "execution_count": 2,
   "id": "b661407c",
   "metadata": {},
   "outputs": [
    {
     "name": "stdout",
     "output_type": "stream",
     "text": [
      "Numba is using 8 threads.\n"
     ]
    }
   ],
   "source": [
    "from cqasim.cqa_simulator import *\n",
    "from cqasim.cqa_defaults import *"
   ]
  },
  {
   "cell_type": "markdown",
   "id": "e010efa2",
   "metadata": {},
   "source": [
    "## Get Default Parameters\n",
    "\n",
    "Model default paramters are stored in a dictionary in `cqa_default.py`. They can be assessed as so:"
   ]
  },
  {
   "cell_type": "code",
   "execution_count": 3,
   "id": "1167b9cc",
   "metadata": {},
   "outputs": [
    {
     "name": "stdout",
     "output_type": "stream",
     "text": [
      "CqaModel(par={'P': 1, 'N': 999, 'T': 1000, 'L': 200, 'mean_diameter': 1.57, 'var_diameter': 2.0, 'correlated_peaks': False, 'simplified_data': True, 'correlated_dimensions': 'min', 'mean_height': 1.549, 'var_height': 0.0, 'exponent': 0, 'gamma': 0.5, 'M': 1, 'M_fixed': True, 'seed': 1, 'track_dynamics_flag': False, 'record_final_flag': True, 'g': 17.0, 'kb': 300, 'initial_step_size': 0.08, 'converge_eps': 1e-05, 'max_iterations': 60000.0, 'verbose': False})\n"
     ]
    }
   ],
   "source": [
    "defaults = CqaDefaults()\n",
    "print(defaults)"
   ]
  },
  {
   "cell_type": "markdown",
   "id": "62ee9ca7",
   "metadata": {},
   "source": [
    "This dictionary can be changed when instantiating the simulator but if a model parameter is not specified, a default parameter from `cqa_default.py` is used:"
   ]
  },
  {
   "cell_type": "code",
   "execution_count": 4,
   "id": "7e70126c",
   "metadata": {},
   "outputs": [],
   "source": [
    "cqa = CqaSimulator({\n",
    "    \"var_diameter\": 0.1,\n",
    "    \"var_heights\": 0.1,\n",
    "    \"N\": 3000,\n",
    "    \"M\": 4.4,\n",
    "    \"correlated_peaks\": True,\n",
    "    \"M_fixed\": False,\n",
    "    \"seed\": 1,\n",
    "})"
   ]
  },
  {
   "cell_type": "markdown",
   "id": "34eaa547",
   "metadata": {},
   "source": [
    "Parameters can also be changed after the initialization but in this case it is important to run `cqa.update_ctx_state()` after changing the parameters. Like so:"
   ]
  },
  {
   "cell_type": "code",
   "execution_count": null,
   "id": "8b84c4b4",
   "metadata": {},
   "outputs": [],
   "source": [
    "cqa = CqaSimulator()\n",
    "cqa.par[\"var_diameter\"] = 1.3\n",
    "cqa.par[\"N\"] = 6000\n",
    "cqa.par[\"M\"] = 4.4\n",
    "cqa.par[\"correlated_peaks\"] = True\n",
    "cqa.par[\"M_fixed\"] = False\n",
    "cqa.__init__(cqa.par)  # This is important!!\n",
    "cqa.update_ctx_state()  # This is important!!\n"
   ]
  },
  {
   "cell_type": "markdown",
   "id": "667d1376",
   "metadata": {},
   "source": [
    "## Run the simulator"
   ]
  },
  {
   "cell_type": "markdown",
   "id": "02f0b3bc",
   "metadata": {},
   "source": [
    "Now one can run the simulator...\n",
    "\n",
    "### ... until convergence for a specific poisition"
   ]
  },
  {
   "cell_type": "code",
   "execution_count": null,
   "id": "65ee609a",
   "metadata": {},
   "outputs": [
    {
     "name": "stdout",
     "output_type": "stream",
     "text": [
      "CqaSimulator(params={'P': 1, 'N': 6000, 'T': 1000, 'L': 200, 'mean_diameter': 1.57, 'var_diameter': 1.3, 'correlated_peaks': True, 'simplified_data': True, 'correlated_dimensions': 'min', 'mean_height': 1.549, 'var_height': 0.0, 'exponent': 0, 'gamma': 0.5, 'M': 4.4, 'M_fixed': False, 'seed': 1, 'track_dynamics_flag': False, 'record_final_flag': True, 'g': 17.0, 'kb': 300, 'initial_step_size': 0.08, 'converge_eps': 1e-05, 'max_iterations': 60000.0, 'verbose': False})\n",
      "Model converged after 228 steps.\n"
     ]
    }
   ],
   "source": [
    "%matplotlib inline\n",
    "print(cqa)\n",
    "init_pos = 100\n",
    "cqa.run_until_convergence(\n",
    "    init_pos, p=0, record_final_flag=False, verbose=2,\n",
    "    visualize=False,  # Visualization works better in terminal than in notebook... for now set to False\n",
    ")"
   ]
  },
  {
   "cell_type": "markdown",
   "id": "e11ae4d1",
   "metadata": {},
   "source": [
    "### ... until convergence for some/all positions in T"
   ]
  },
  {
   "cell_type": "code",
   "execution_count": null,
   "id": "8d7ecedd",
   "metadata": {},
   "outputs": [
    {
     "name": "stdout",
     "output_type": "stream",
     "text": [
      "CqaSimulator(params={'P': 1, 'N': 6000, 'T': 1000, 'L': 200, 'mean_diameter': 1.57, 'var_diameter': 1.3, 'correlated_peaks': True, 'simplified_data': True, 'correlated_dimensions': 'min', 'mean_height': 1.549, 'var_height': 0.0, 'exponent': 0, 'gamma': 0.5, 'M': 4.4, 'M_fixed': False, 'seed': 1, 'track_dynamics_flag': False, 'record_final_flag': False, 'g': 17.0, 'kb': 300, 'initial_step_size': 0.08, 'converge_eps': 1e-05, 'max_iterations': 60000.0, 'verbose': False})\n",
      "p = 0 , init_pos = 0  (var_dia = 1.3 )\n",
      "Model converged after 225 steps.\n",
      "p = 0 , init_pos = 200  (var_dia = 1.3 )\n",
      "Model converged after 227 steps.\n",
      "p = 0 , init_pos = 400  (var_dia = 1.3 )\n",
      "Model converged after 215 steps.\n",
      "p = 0 , init_pos = 600  (var_dia = 1.3 )\n",
      "Model converged after 219 steps.\n",
      "p = 0 , init_pos = 800  (var_dia = 1.3 )\n",
      "Model converged after 215 steps.\n"
     ]
    }
   ],
   "source": [
    "print(cqa)\n",
    "spacing = 200  # run for every 100th position in T\n",
    "cqa.run_until_convergence_over_positions(\n",
    "    spacing=spacing, record_final_flag=False, verbose=2,\n",
    ")"
   ]
  },
  {
   "cell_type": "markdown",
   "id": "12857382",
   "metadata": {},
   "source": [
    "## Saving simulation runs"
   ]
  },
  {
   "cell_type": "markdown",
   "id": "4b4d223b",
   "metadata": {},
   "source": [
    "Simulation runs can be saved with `record_final_flag=True` in a data structure that contains all the parameters of the model and is specified in `default.py`. \n",
    "\n",
    "Some parameters that are less often changed and are related to the simulation or size of the network are included in folders names of the nested folder structure:"
   ]
  },
  {
   "cell_type": "code",
   "execution_count": null,
   "id": "f15ad63f",
   "metadata": {},
   "outputs": [
    {
     "name": "stdout",
     "output_type": "stream",
     "text": [
      "CqaModel(par={'P': 1, 'N': 999, 'T': 1000, 'L': 200, 'mean_diameter': 1.57, 'var_diameter': 2.0, 'correlated_peaks': False, 'simplified_data': True, 'correlated_dimensions': 'min', 'mean_height': 1.549, 'var_height': 0.0, 'exponent': 0, 'gamma': 0.5, 'M': 1, 'M_fixed': True, 'seed': 1, 'track_dynamics_flag': False, 'record_final_flag': True, 'g': 17.0, 'kb': 300, 'initial_step_size': 0.08, 'converge_eps': 1e-05, 'max_iterations': 60000.0, 'verbose': False})\n"
     ]
    },
    {
     "data": {
      "text/plain": [
       "PosixPath('simpl_data/g17.0_kb300_step0.08/P1_N999/T1000_L200')"
      ]
     },
     "execution_count": 31,
     "metadata": {},
     "output_type": "execute_result"
    }
   ],
   "source": [
    "print(defaults)\n",
    "\n",
    "defaults.build_fp(\".\")"
   ]
  },
  {
   "cell_type": "markdown",
   "id": "276362fd",
   "metadata": {},
   "source": [
    "Others are used in the filename:"
   ]
  },
  {
   "cell_type": "code",
   "execution_count": null,
   "id": "72d143d7",
   "metadata": {},
   "outputs": [
    {
     "data": {
      "text/plain": [
       "'fieldM1_heightM1.549_diaM1.57_diaVar2.0_corrP0_gamma0.5_seed1'"
      ]
     },
     "execution_count": 32,
     "metadata": {},
     "output_type": "execute_result"
    }
   ],
   "source": [
    "defaults.build_fn()"
   ]
  },
  {
   "cell_type": "markdown",
   "id": "8d0dbb27",
   "metadata": {},
   "source": [
    "To run the model over multiple parameters, for example, and save the state of the network when it converged, it is best to just specify your path `fp=\"...\"` and call the method `cqa.save_run_data(fp)` with the `record_final_flag == True` which is default.\n",
    "\n",
    "In such a run, the model saves individual `.npy` files of:\n",
    "- \"data_{fn}.npy\" : The data with which the model was initialized\n",
    "- \"diams_per_nrn_{fn}.npy\" : The diameters of place fields for each neuron\n",
    "- \"heights_per_nrn_{fn}.npy\" : The heights of place fields for each neuron\n",
    "- \"fields_per_nrn_{fn}.npy\" : The position of place fields for each neuron\n",
    "- \"sim_data_{fn}.npy\" : The simualted data after the model has converged\n",
    "- \"sim_pos_{fn}.npy\" The position of maximal overlap when the model has converged\n",
    "\n",
    "One can also save the full model with `cqa.save_full_model(fp)` and reload it some time later with `cqa.load_full_model(fp)`."
   ]
  },
  {
   "cell_type": "code",
   "execution_count": null,
   "id": "4e7b5d3c",
   "metadata": {},
   "outputs": [
    {
     "name": "stdout",
     "output_type": "stream",
     "text": [
      "\n",
      " Run 0/1 with diameter variance 0.5\n",
      "p = 0 , init_pos = 0  (var_dia = 0.5 )\n",
      "Model converged after 708 steps.\n",
      "p = 0 , init_pos = 500  (var_dia = 0.5 )\n",
      "Model converged after 1300 steps.\n"
     ]
    }
   ],
   "source": [
    "fp = \"...\"  # Here goes your path!\n",
    "cqa.par[\"record_final_flag\"] = True  # Should be default anyways...\n",
    "cqa.update_ctx_state()\n",
    "\n",
    "# var_dias = np.round(np.arange(0.0, 2.0, 0.05), 2).tolist()  # diameter variations\n",
    "var_dias = [0.5]\n",
    "for i, var_d in enumerate(var_dias):\n",
    "    print(f\"\\n Run {i}/{len(var_dias)} with diameter variance {var_d}\")\n",
    "\n",
    "    cqa.par[\"var_diameter\"] = var_d\n",
    "    cqa.update_ctx_state()\n",
    "\n",
    "    cqa.run_until_convergence_over_positions(spacing=500)\n",
    "    # cqa.save_run_data(fp)  # Uncomment to save!\n",
    "# cqa.save_full_model(fp)  # Uncomment to save!\n",
    "# cqa.load_full_model(fp)  # Uncomment to save!"
   ]
  },
  {
   "cell_type": "markdown",
   "id": "f2706d84",
   "metadata": {},
   "source": [
    "To save information about the dynamics, one should set `track_dynamics_flag == True`, and the model calculates some summary information about the dynamics at each time step. It does not, however, save all activations at every timestep since it would create to large data sets. (Not that track_dynamics slows the simulation down by quite a bit.)\n",
    "\n",
    "So far this information includes the following (but might still be extended with other measures).\n",
    "- overlap_max_{fn}.npy : the maximal overlap during each time step\n",
    "- overlap_max_pos_{fn}.npy : the position of maximal overlap during each time step\n",
    "- overlap_disp_{fn}.npy : the dispersion of overlap at each time step\n",
    "- overlap_disp_clip_{fn}.np : the dispersion of clipped overlap at each time step\n",
    "- v_disp_{fn}.npy : the dispersion of the activity V at each time step"
   ]
  },
  {
   "cell_type": "code",
   "execution_count": null,
   "id": "92452a19",
   "metadata": {},
   "outputs": [
    {
     "name": "stdout",
     "output_type": "stream",
     "text": [
      "\n",
      " Run 0/1 with diameter variance 0.5\n",
      "p = 0 , init_pos = 0  (var_dia = 0.5 )\n",
      "Model converged after 708 steps.\n",
      "p = 0 , init_pos = 500  (var_dia = 0.5 )\n",
      "Model converged after 1300 steps.\n"
     ]
    }
   ],
   "source": [
    "fp = \"...\"  # Here goes your path!\n",
    "cqa.par[\"record_final_flag\"] = True  # Should be default anyways...\n",
    "cqa.par[\"track_dynamics_flag\"] = True  # Should be default anyways...\n",
    "cqa.__init__(cqa.par)  # This is important!!\n",
    "cqa.update_ctx_state() # This is important!!\n",
    "\n",
    "# var_dias = np.round(np.arange(0.0, 2.0, 0.05), 2).tolist()  # diameter variations\n",
    "var_dias = [0.5]\n",
    "for i, var_d in enumerate(var_dias):\n",
    "    print(f\"\\n Run {i}/{len(var_dias)} with diameter variance {var_d}\")\n",
    "\n",
    "    cqa.par[\"var_diameter\"] = var_d\n",
    "    cqa.update_ctx_state()\n",
    "\n",
    "    cqa.run_until_convergence_over_positions(spacing=500)\n",
    "    # cqa.save_run_data(fp)  # Uncomment to save!\n",
    "# cqa.save_full_model(fp)  # Uncomment to save!\n",
    "# cqa.load_full_model(fp)  # Uncomment to save!"
   ]
  },
  {
   "cell_type": "code",
   "execution_count": null,
   "id": "652d27ab",
   "metadata": {},
   "outputs": [],
   "source": []
  }
 ],
 "metadata": {
  "kernelspec": {
   "display_name": "cqasim",
   "language": "python",
   "name": "python3"
  },
  "language_info": {
   "codemirror_mode": {
    "name": "ipython",
    "version": 3
   },
   "file_extension": ".py",
   "mimetype": "text/x-python",
   "name": "python",
   "nbconvert_exporter": "python",
   "pygments_lexer": "ipython3",
   "version": "3.13.2"
  }
 },
 "nbformat": 4,
 "nbformat_minor": 5
}
