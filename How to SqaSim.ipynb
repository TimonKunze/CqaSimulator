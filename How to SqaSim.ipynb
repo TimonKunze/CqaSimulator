{
 "cells": [
  {
   "cell_type": "code",
   "execution_count": 63,
   "id": "2f98f2ce",
   "metadata": {},
   "outputs": [
    {
     "name": "stdout",
     "output_type": "stream",
     "text": [
      "The autoreload extension is already loaded. To reload it, use:\n",
      "  %reload_ext autoreload\n"
     ]
    }
   ],
   "source": [
    "%load_ext autoreload\n",
    "%autoreload 2"
   ]
  },
  {
   "cell_type": "markdown",
   "id": "57f64107",
   "metadata": {},
   "source": [
    "# How to install"
   ]
  },
  {
   "cell_type": "markdown",
   "id": "4156321b",
   "metadata": {},
   "source": [
    "I would install the module as a git submodule in your project folder with:\n",
    "\n",
    "`git submodule add git@github.com:TimonKunze/CqaSimulator.git submodules/cqasim`\n",
    "\n",
    "Then one can easily push changes to one's own project git repository as well as pushing bugfixes and extensions to the `sqasim`package itself. (I would however mostly work without changing the module but only by inheriting from the module classes and overwriting the methods...)"
   ]
  },
  {
   "cell_type": "markdown",
   "id": "cbc3a909",
   "metadata": {},
   "source": [
    "In one's project root one can install the package as editable in with `pip install -e ./submodules/sqasim`."
   ]
  },
  {
   "cell_type": "markdown",
   "id": "83ca9f65",
   "metadata": {},
   "source": [
    "Then one can load the load submodul like here:\n",
    "\n",
    "```\n",
    "from submodules.cqasim.cqa_simulator import CqaSimulator\n",
    "from submodules.cqasim.cqa_defaults import CqaDefaults\n",
    "```\n",
    "\n",
    "and can inherit from the module classes like so:\n",
    "\n",
    "```\n",
    "class MyOwnCqaSimulator(CqaSimulator):\n",
    "    def __init__(self):\n",
    "        super().__init__()\n",
    "\n",
    "    def run(self):\n",
    "        ...\n",
    "```\n",
    "\n"
   ]
  },
  {
   "cell_type": "markdown",
   "id": "763255bc",
   "metadata": {},
   "source": [
    "Of course there are also many other ways of how to install the code..."
   ]
  },
  {
   "cell_type": "markdown",
   "id": "e528eb1b",
   "metadata": {},
   "source": [
    "# How to use"
   ]
  },
  {
   "cell_type": "code",
   "execution_count": 2,
   "id": "b661407c",
   "metadata": {},
   "outputs": [
    {
     "name": "stdout",
     "output_type": "stream",
     "text": [
      "Numba is using 8 threads.\n"
     ]
    }
   ],
   "source": [
    "from cqasim.cqa_simulator import *\n",
    "from cqasim.cqa_defaults import *\n"
   ]
  },
  {
   "cell_type": "markdown",
   "id": "e010efa2",
   "metadata": {},
   "source": [
    "## Get Default Parameters\n",
    "\n",
    "Model default paramters are stored in a dictionary in `cqa_default.py`. They can be assessed as so:"
   ]
  },
  {
   "cell_type": "code",
   "execution_count": 43,
   "id": "1167b9cc",
   "metadata": {},
   "outputs": [
    {
     "name": "stdout",
     "output_type": "stream",
     "text": [
      "CqaModel(par={'P': 1, 'N': 999, 'T': 1000, 'L': 200, 'mean_diameter': 1.57, 'var_diameter': 2.0, 'correlated_peaks': False, 'simplified_data': False, 'correlated_dimensions': 'max', 'mean_height': 1.549, 'var_height': 0.0, 'exponent': 0, 'gamma': 0.5, 'M': 1, 'M_fixed': True, 'seed': 1, 'track_dynamics_flag': False, 'record_final_flag': True, 'g': 17.0, 'kb': 300, 'initial_step_size': 0.08, 'converge_eps': 1e-05, 'max_iterations': 60000.0, 'verbose': False})\n"
     ]
    }
   ],
   "source": [
    "defaults = CqaDefaults()\n",
    "print(defaults)"
   ]
  },
  {
   "cell_type": "markdown",
   "id": "62ee9ca7",
   "metadata": {},
   "source": [
    "This dictionary can be changed when instantiating the simulator but if a model parameter is not specified, a default parameter from `cqa_default.py` is used:"
   ]
  },
  {
   "cell_type": "code",
   "execution_count": 61,
   "id": "7e70126c",
   "metadata": {},
   "outputs": [],
   "source": [
    "cqa = CqaSimulator({\n",
    "    \"var_diameter\": 0.1,\n",
    "    \"var_heights\": 0.1,\n",
    "    \"N\": 3000,\n",
    "    \"M\": 4.4,\n",
    "    \"correlated_peaks\": True,\n",
    "    \"M_fixed\": False,\n",
    "    \"seed\": 1,\n",
    "})"
   ]
  },
  {
   "cell_type": "markdown",
   "id": "34eaa547",
   "metadata": {},
   "source": [
    "Parameters can also be changed after the initialization but in this case it is important to run `cqa.update_ctx_state()` after changing the parameters. Like so:"
   ]
  },
  {
   "cell_type": "code",
   "execution_count": 1,
   "id": "8b84c4b4",
   "metadata": {},
   "outputs": [
    {
     "ename": "NameError",
     "evalue": "name 'CqaSimulator' is not defined",
     "output_type": "error",
     "traceback": [
      "\u001b[31m---------------------------------------------------------------------------\u001b[39m",
      "\u001b[31mNameError\u001b[39m                                 Traceback (most recent call last)",
      "\u001b[36mCell\u001b[39m\u001b[36m \u001b[39m\u001b[32mIn[1]\u001b[39m\u001b[32m, line 1\u001b[39m\n\u001b[32m----> \u001b[39m\u001b[32m1\u001b[39m cqa = CqaSimulator()\n\u001b[32m      2\u001b[39m cqa.par[\u001b[33m\"\u001b[39m\u001b[33mvar_diameter\u001b[39m\u001b[33m\"\u001b[39m] = \u001b[32m1.3\u001b[39m\n\u001b[32m      3\u001b[39m cqa.par[\u001b[33m\"\u001b[39m\u001b[33mN\u001b[39m\u001b[33m\"\u001b[39m] = \u001b[32m6000\u001b[39m\n",
      "\u001b[31mNameError\u001b[39m: name 'CqaSimulator' is not defined"
     ]
    }
   ],
   "source": [
    "cqa = CqaSimulator()\n",
    "cqa.par[\"var_diameter\"] = 1.3\n",
    "cqa.par[\"N\"] = 6000\n",
    "cqa.par[\"M\"] = 4.4\n",
    "cqa.par[\"correlated_peaks\"] = True\n",
    "cqa.par[\"M_fixed\"] = False\n",
    "cqa.update_ctx_state()  # This is important!!"
   ]
  },
  {
   "cell_type": "markdown",
   "id": "667d1376",
   "metadata": {},
   "source": [
    "## Run the simulator"
   ]
  },
  {
   "cell_type": "markdown",
   "id": "02f0b3bc",
   "metadata": {},
   "source": [
    "Now one can run the simulator...\n",
    "\n",
    "### ... until convergence for a specific poisition"
   ]
  },
  {
   "cell_type": "code",
   "execution_count": 58,
   "id": "65ee609a",
   "metadata": {},
   "outputs": [
    {
     "name": "stdout",
     "output_type": "stream",
     "text": [
      "CqaSimulator(params={'P': 1, 'N': 6000, 'T': 1000, 'L': 200, 'mean_diameter': 1.57, 'var_diameter': 1.3, 'correlated_peaks': True, 'simplified_data': False, 'correlated_dimensions': 'max', 'mean_height': 1.549, 'var_height': 0.0, 'exponent': 0, 'gamma': 0.5, 'M': 4.4, 'M_fixed': False, 'seed': 1, 'track_dynamics_flag': False, 'record_final_flag': False, 'g': 17.0, 'kb': 300, 'initial_step_size': 0.08, 'converge_eps': 1e-05, 'max_iterations': 60000.0, 'verbose': False})\n",
      "Model converged after 2209 steps.\n"
     ]
    }
   ],
   "source": [
    "%matplotlib inline\n",
    "print(cqa)\n",
    "init_pos = 100\n",
    "cqa.run_until_convergence(\n",
    "    init_pos, p=0, record_final_flag=False, verbose=2,\n",
    "    visualize=False,  # Visualization works better in terminal than in notebook... for now set to False\n",
    ")"
   ]
  },
  {
   "cell_type": "markdown",
   "id": "e11ae4d1",
   "metadata": {},
   "source": [
    "### ... until convergence for some/all positions in T"
   ]
  },
  {
   "cell_type": "code",
   "execution_count": 47,
   "id": "8d7ecedd",
   "metadata": {},
   "outputs": [
    {
     "name": "stdout",
     "output_type": "stream",
     "text": [
      "CqaSimulator(params={'P': 1, 'N': 6000, 'T': 1000, 'L': 200, 'mean_diameter': 1.57, 'var_diameter': 1.3, 'correlated_peaks': True, 'simplified_data': False, 'correlated_dimensions': 'max', 'mean_height': 1.549, 'var_height': 0.0, 'exponent': 0, 'gamma': 0.5, 'M': 4.4, 'M_fixed': False, 'seed': 1, 'track_dynamics_flag': False, 'record_final_flag': True, 'g': 17.0, 'kb': 300, 'initial_step_size': 0.08, 'converge_eps': 1e-05, 'max_iterations': 60000.0, 'verbose': False})\n",
      "p = 0 , init_pos = 0  (var_dia = 1.3 )\n",
      "Model converged after 2209 steps.\n",
      "p = 0 , init_pos = 200  (var_dia = 1.3 )\n",
      "Model converged after 2209 steps.\n",
      "p = 0 , init_pos = 400  (var_dia = 1.3 )\n",
      "Model converged after 2209 steps.\n",
      "p = 0 , init_pos = 600  (var_dia = 1.3 )\n",
      "Model converged after 2209 steps.\n",
      "p = 0 , init_pos = 800  (var_dia = 1.3 )\n",
      "Model converged after 2209 steps.\n"
     ]
    }
   ],
   "source": [
    "print(cqa)\n",
    "spacing = 200  # run for every 100th position in T\n",
    "cqa.run_until_convergence_over_positions(\n",
    "    spacing=spacing, record_final_flag=False, verbose=2,\n",
    ")"
   ]
  },
  {
   "cell_type": "markdown",
   "id": "12857382",
   "metadata": {},
   "source": [
    "## Saving simulation runs"
   ]
  },
  {
   "cell_type": "markdown",
   "id": "4b4d223b",
   "metadata": {},
   "source": [
    "Simulation runs can be saved with `record_final_flag=True` in a data structure that contains all the paramters of the model and is specified in `default.py`. \n",
    "\n",
    "Some parameters that are less often changed are used as folder names:"
   ]
  },
  {
   "cell_type": "code",
   "execution_count": 48,
   "id": "f15ad63f",
   "metadata": {},
   "outputs": [
    {
     "name": "stdout",
     "output_type": "stream",
     "text": [
      "CqaModel(par={'P': 1, 'N': 999, 'T': 1000, 'L': 200, 'mean_diameter': 1.57, 'var_diameter': 2.0, 'correlated_peaks': False, 'simplified_data': False, 'correlated_dimensions': 'max', 'mean_height': 1.549, 'var_height': 0.0, 'exponent': 0, 'gamma': 0.5, 'M': 1, 'M_fixed': True, 'seed': 1, 'track_dynamics_flag': False, 'record_final_flag': True, 'g': 17.0, 'kb': 300, 'initial_step_size': 0.08, 'converge_eps': 1e-05, 'max_iterations': 60000.0, 'verbose': False})\n"
     ]
    },
    {
     "ename": "AttributeError",
     "evalue": "'CqaDefaults' object has no attribute 'par'",
     "output_type": "error",
     "traceback": [
      "\u001b[31m---------------------------------------------------------------------------\u001b[39m",
      "\u001b[31mAttributeError\u001b[39m                            Traceback (most recent call last)",
      "\u001b[36mCell\u001b[39m\u001b[36m \u001b[39m\u001b[32mIn[48]\u001b[39m\u001b[32m, line 3\u001b[39m\n\u001b[32m      1\u001b[39m \u001b[38;5;28mprint\u001b[39m(defaults)\n\u001b[32m----> \u001b[39m\u001b[32m3\u001b[39m defaults.build_fp(\u001b[33m\"\u001b[39m\u001b[33m.\u001b[39m\u001b[33m\"\u001b[39m)\n",
      "\u001b[36mFile \u001b[39m\u001b[32m~/01_PROJECTS/CqaSimulator/cqasim/cqa_defaults.py:57\u001b[39m, in \u001b[36mCqaDefaults.build_fp\u001b[39m\u001b[34m(self, base_path)\u001b[39m\n\u001b[32m     55\u001b[39m \u001b[38;5;28;01mdef\u001b[39;00m\u001b[38;5;250m \u001b[39m\u001b[34mbuild_fp\u001b[39m(\u001b[38;5;28mself\u001b[39m, base_path):\n\u001b[32m     56\u001b[39m \u001b[38;5;250m    \u001b[39m\u001b[33;03m\"\"\"Build folder path from default parameters.\"\"\"\u001b[39;00m\n\u001b[32m---> \u001b[39m\u001b[32m57\u001b[39m     \u001b[38;5;28;01mif\u001b[39;00m \u001b[38;5;129;01mnot\u001b[39;00m \u001b[38;5;28mself\u001b[39m.par:  \u001b[38;5;66;03m# TODO: test with simulator\u001b[39;00m\n\u001b[32m     58\u001b[39m         \u001b[38;5;28mself\u001b[39m.par = \u001b[38;5;28mself\u001b[39m.default_par\n\u001b[32m     60\u001b[39m     base_path = Path(base_path)\n",
      "\u001b[31mAttributeError\u001b[39m: 'CqaDefaults' object has no attribute 'par'"
     ]
    }
   ],
   "source": [
    "print(defaults)\n",
    "\n",
    "defaults.build_fp(\".\")"
   ]
  },
  {
   "cell_type": "markdown",
   "id": "276362fd",
   "metadata": {},
   "source": [
    "Others are used in the filename:"
   ]
  },
  {
   "cell_type": "code",
   "execution_count": null,
   "id": "72d143d7",
   "metadata": {},
   "outputs": [
    {
     "data": {
      "text/plain": [
       "'fieldM1_heightM1.549_diaM1.57_diaVar2.0_corrP0_gamma0.5_seed1'"
      ]
     },
     "execution_count": 33,
     "metadata": {},
     "output_type": "execute_result"
    }
   ],
   "source": [
    "defaults.build_fn()"
   ]
  },
  {
   "cell_type": "markdown",
   "id": "8d0dbb27",
   "metadata": {},
   "source": [
    "To run the model over multiple parameters, for example, and save the state of then network when it converged, it is best to just specify your path `fp=\"...\"` call the method `cqa.save_run_data(fp)` with `record_final_flag == True` which is the default.\n",
    "To be precise the model save in individual `.npy` files:\n",
    "- \"data_{fn}.npy\" : The data with which the model was initialized\n",
    "- \"diams_per_nrn_{fn}.npy\" : The diameters of place fields for each neuron\n",
    "- \"heights_per_nrn_{fn}.npy\" : The heights of place fields for each neuron\n",
    "- \"fields_per_nrn_{fn}.npy\" : The position of place fields for each neuron\n",
    "- \"sim_data_{fn}.npy\" : The simualted data after the model has converged\n",
    "- \"sim_pos_{fn}.npy\" The position of maximal overlap when the model has converged\n",
    "\n",
    "One can also save the full model with `cqa.save_full_model(fp)` and load it afterwards with `cqa.load_full_model(fp)`."
   ]
  },
  {
   "cell_type": "code",
   "execution_count": null,
   "id": "4e7b5d3c",
   "metadata": {},
   "outputs": [
    {
     "name": "stdout",
     "output_type": "stream",
     "text": [
      "NOTE: Data is necessarily seeded for correlated_dims=='max'.\n",
      "fields (1, 999, 1)\n",
      "\n",
      " Run 0/1 with diameter variance 0.5\n",
      "NOTE: Data is necessarily seeded for correlated_dims=='max'.\n",
      "fields (1, 999, 1)\n",
      "p = 0 , init_pos = 0  (var_dia = 0.5 )\n",
      "Model converged after 190 steps.\n",
      "p = 0 , init_pos = 500  (var_dia = 0.5 )\n",
      "Model converged after 359 steps.\n"
     ]
    }
   ],
   "source": [
    "fp = \"...\"  # Here goes your path!\n",
    "cqa.par[\"record_final_flag\"] = True  # Should be default anyways...\n",
    "cqa.update_ctx_state()\n",
    "\n",
    "# var_dias = np.round(np.arange(0.0, 2.0, 0.05), 2).tolist()  # diameter variations\n",
    "var_dias = [0.5]\n",
    "for i, var_d in enumerate(var_dias):\n",
    "    print(f\"\\n Run {i}/{len(var_dias)} with diameter variance {var_d}\")\n",
    "\n",
    "    cqa.par[\"var_diameter\"] = var_d\n",
    "    cqa.update_ctx_state()\n",
    "\n",
    "    cqa.run_until_convergence_over_positions(spacing=500)\n",
    "    # cqa.save_run_data(fp)  # Uncomment to save!\n",
    "# cqa.save_full_model(fp)  # Uncomment to save!\n",
    "# cqa.load_full_model(fp)  # Uncomment to save!"
   ]
  },
  {
   "cell_type": "markdown",
   "id": "f2706d84",
   "metadata": {},
   "source": [
    "To save information about the dynamics, one should set `track_dynamics_flag == True`, the model calculates some summary information about the dynamics at each time step but it does not save all activation at every timestep.\n",
    "\n",
    "So far this information includes but might still be extended:\n",
    "- overlap_max_{fn}.npy : the maximal overlap during each time step\n",
    "- overlap_max_pos_{fn}.npy : the position of maximal overlap during each time step\n",
    "- overlap_disp_{fn}.npy : the dispersion of overlap at each time step\n",
    "- overlap_disp_clip_{fn}.np : the dispersion of clipped overlap at each time step\n",
    "- v_disp_{fn}.npy : the dispersion of the activity V at each time step"
   ]
  },
  {
   "cell_type": "code",
   "execution_count": null,
   "id": "92452a19",
   "metadata": {},
   "outputs": [
    {
     "name": "stdout",
     "output_type": "stream",
     "text": [
      "NOTE: Data is necessarily seeded for correlated_dims=='max'.\n",
      "fields (1, 999, 1)\n",
      "\n",
      " Run 0/1 with diameter variance 0.5\n",
      "NOTE: Data is necessarily seeded for correlated_dims=='max'.\n",
      "fields (1, 999, 1)\n",
      "p = 0 , init_pos = 0  (var_dia = 0.5 )\n",
      "Model converged after 190 steps.\n",
      "p = 0 , init_pos = 500  (var_dia = 0.5 )\n",
      "Model converged after 359 steps.\n"
     ]
    }
   ],
   "source": [
    "fp = \"...\"  # Here goes your path!\n",
    "cqa.par[\"record_final_flag\"] = True  # Should be default anyways...\n",
    "cqa.par[\"track_dynamics_flag\"] = True  # Should be default anyways...\n",
    "cqa.update_ctx_state()\n",
    "\n",
    "# var_dias = np.round(np.arange(0.0, 2.0, 0.05), 2).tolist()  # diameter variations\n",
    "var_dias = [0.5]\n",
    "for i, var_d in enumerate(var_dias):\n",
    "    print(f\"\\n Run {i}/{len(var_dias)} with diameter variance {var_d}\")\n",
    "\n",
    "    cqa.par[\"var_diameter\"] = var_d\n",
    "    cqa.update_ctx_state()\n",
    "\n",
    "    cqa.run_until_convergence_over_positions(spacing=500)\n",
    "    # cqa.save_run_data(fp)  # Uncomment to save!\n",
    "# cqa.save_full_model(fp)  # Uncomment to save!\n",
    "# cqa.load_full_model(fp)  # Uncomment to save!"
   ]
  }
 ],
 "metadata": {
  "kernelspec": {
   "display_name": "cqasim",
   "language": "python",
   "name": "python3"
  },
  "language_info": {
   "codemirror_mode": {
    "name": "ipython",
    "version": 3
   },
   "file_extension": ".py",
   "mimetype": "text/x-python",
   "name": "python",
   "nbconvert_exporter": "python",
   "pygments_lexer": "ipython3",
   "version": "3.13.2"
  }
 },
 "nbformat": 4,
 "nbformat_minor": 5
}
